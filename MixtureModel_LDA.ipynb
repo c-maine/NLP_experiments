{
 "cells": [
  {
   "cell_type": "markdown",
   "metadata": {},
   "source": [
    "# EM algorithm mixture model and LDA estimation\n",
    "\n",
    "This notebook aims to investigate differences in word frequency distributions between 2 different classes of documents relating to terror and tourism. The classes are generated using 2 different methods - EM algorithm and LDA"
   ]
  },
  {
   "cell_type": "markdown",
   "metadata": {},
   "source": [
    "# Import packages"
   ]
  },
  {
   "cell_type": "code",
   "execution_count": null,
   "metadata": {},
   "outputs": [],
   "source": [
    "import pandas as pd\n",
    "import numpy as np\n",
    "import string\n",
    "import csv\n",
    "import nltk\n",
    "from nltk.stem import PorterStemmer\n",
    "from nltk.stem.wordnet import WordNetLemmatizer\n",
    "from nltk.corpus import stopwords\n",
    "import seaborn as sns\n",
    "from scipy import stats\n",
    "from matplotlib import pyplot as plt\n",
    "from sklearn.feature_extraction.text import TfidfTransformer, CountVectorizer, TfidfVectorizer\n",
    "import os\n",
    "import numpy as np\n",
    "from scipy.special import logsumexp\n",
    "from collections import Counter\n",
    "import gensim\n",
    "from gensim import models\n",
    "from gensim import corpora\n",
    "from collections import defaultdict\n",
    "\n",
    "\n",
    "new_stopwords = set(stopwords.words('english'))\n",
    "lmtzr = WordNetLemmatizer()"
   ]
  },
  {
   "cell_type": "markdown",
   "metadata": {},
   "source": [
    "# Load data"
   ]
  },
  {
   "cell_type": "markdown",
   "metadata": {},
   "source": [
    "This notebook is based on news coverage data used by an ongoing research project- hence the data is not available. \n",
    "#Besley, Fetzer and Mueller (2020) \"Terror and Tourism: The Economic Consequences of Media Coverage\"."
   ]
  },
  {
   "cell_type": "code",
   "execution_count": null,
   "metadata": {},
   "outputs": [],
   "source": [
    "# os.environ[\"PATH\"] += os.pathsep + 'C:\\\\Program Files (x86)\\\\Graphviz2.38\\\\bin'\n",
    "\n",
    "## Set path\n",
    "# path='C:\\\\Users\\\\hanne\\\\Dropbox\\\\teaching\\\\Data Science Text Mining 2020\\\\programs\\\\lecture 1'\n",
    "\n",
    "# Load data\n",
    "#this is loading a dataset of news items on chinese news on Turkey\n",
    "filename =\"100articles.csv\"\n",
    "\n",
    "# corpus_data = pd.read_csv(os.path.join(path, filename), sep=',', encoding='utf-8')\n",
    "corpus_data = pd.read_csv(filename)\n",
    "\n",
    "corpus_data.info()"
   ]
  },
  {
   "cell_type": "markdown",
   "metadata": {},
   "source": [
    "# Pre-processing and data exploration"
   ]
  },
  {
   "cell_type": "code",
   "execution_count": 1,
   "metadata": {},
   "outputs": [
    {
     "name": "stdout",
     "output_type": "stream",
     "text": [
      "<class 'pandas.core.frame.DataFrame'>\n",
      "RangeIndex: 108 entries, 0 to 107\n",
      "Data columns (total 13 columns):\n",
      "ARTICLENUMID     108 non-null object\n",
      "LENGTH           108 non-null object\n",
      "year             108 non-null int64\n",
      "day              108 non-null int64\n",
      "monthnum         108 non-null int64\n",
      "issuing_iso3c    108 non-null object\n",
      "dest_iso3c       108 non-null object\n",
      "TXT_EN           108 non-null object\n",
      "label_0          97 non-null float64\n",
      "label_1          97 non-null float64\n",
      "label_2          97 non-null float64\n",
      "label_3          97 non-null float64\n",
      "TITLE_EN         108 non-null object\n",
      "dtypes: float64(4), int64(3), object(6)\n",
      "memory usage: 11.1+ KB\n",
      "done with titles\n",
      "done with text plus titles\n"
     ]
    }
   ],
   "source": [
    "# pre-process the text of titles, doing normalization, excluding stop-words\n",
    "corpus_data['titles_lemm'] = \"\"\n",
    "for ind,line in corpus_data.iterrows():\n",
    "    tit = corpus_data.TITLE_EN.iloc[ind]\n",
    "    tit_tok = nltk.word_tokenize(tit)\n",
    "    tit_lem = []\n",
    "    for tok in tit_tok:\n",
    "        tit_lem.append(lmtzr.lemmatize(tok.lower()))\n",
    "    tit_filter = [word for word in tit_lem if word not in new_stopwords]\n",
    "    tit_filter_dop = [word for word in tit_filter if word not in '.,:;-?']\n",
    "    tit_string = ' '.join(tit_filter_dop)\n",
    "    if tit_string == ' ':\n",
    "        corpus_data.at[ind, 'titles_lemm']='---'\n",
    "    else:\n",
    "        corpus_data.at[ind, 'titles_lemm']=tit_string\n",
    "        \n",
    "print(\"done with titles\")\n",
    "\n",
    "# pre-process the text of titles plus article bodies, doing normalization, excluding stop-words\n",
    "corpus_data['text_with_head_lemm'] = \"\"\n",
    "for ind,line in corpus_data.iterrows():\n",
    "    tit = corpus_data.TITLE_EN.iloc[ind] + corpus_data.TXT_EN.iloc[ind]\n",
    "    tit_tok = nltk.word_tokenize(tit)\n",
    "    tit_lem = []\n",
    "    for tok in tit_tok:\n",
    "        tit_lem.append(lmtzr.lemmatize(tok.lower()))\n",
    "    tit_filter = [word for word in tit_lem if word not in new_stopwords]\n",
    "    tit_filter_dop = [word for word in tit_filter if word not in '.,:;-?']\n",
    "    tit_filter_dop = [word for word in tit_filter_dop if word not in \"'s\"]\n",
    "    tit_string = ' '.join(tit_filter_dop)\n",
    "    if tit_string == ' ':\n",
    "        corpus_data.at[ind,'text_with_head_lemm']='---'\n",
    "    else:\n",
    "        corpus_data.at[ind,'text_with_head_lemm']=tit_string\n",
    "\n",
    "print(\"done with text plus titles\")"
   ]
  },
  {
   "cell_type": "code",
   "execution_count": 4,
   "metadata": {},
   "outputs": [
    {
     "name": "stdout",
     "output_type": "stream",
     "text": [
      "0      News Analysis: Assassination of Russian envoy ...\n",
      "1      Sisi voices to Putin Egypt's solidarity with R...\n",
      "2      EU eyes expanding trade ties with Turkey by mo...\n",
      "3      Turkey's president says Russian envoy's assass...\n",
      "4      Laos extends condolences over tragic events in...\n",
      "                             ...                        \n",
      "103    Urgent: UN chief slams deadly terrorist attack...\n",
      "104    Turkish ruling party submits constitutional am...\n",
      "105    Since the beginning of the Syrian crisis, Anka...\n",
      "106    A total of 16 civil servants from the new Iraq...\n",
      "107    Turkey issues detention warrants for 87 schola...\n",
      "Name: TXT_EN, Length: 108, dtype: object\n"
     ]
    }
   ],
   "source": [
    "# Before preprocessing\n",
    "print(corpus_data.TXT_EN[:])"
   ]
  },
  {
   "cell_type": "code",
   "execution_count": 5,
   "metadata": {},
   "outputs": [
    {
     "name": "stdout",
     "output_type": "stream",
     "text": [
      "0    news analysis assassination russian envoy coul...\n",
      "1    sisi voice putin egypt solidarity russia terro...\n",
      "2    eu eye expanding trade tie turkey modernizing ...\n",
      "3    turkey president say russian envoy assassin wa...\n",
      "4    lao extends condolence tragic event germany tu...\n",
      "5    india condemns russian envoy assassination tur...\n",
      "6    slain russian ambassador body arrives moscowa ...\n",
      "7    turkey say gulenist behind russian envoy murde...\n",
      "8    turkey hold ceremony assassinated russian envo...\n",
      "9    sudan condemns assassination russian ambassado...\n",
      "Name: text_with_head_lemm, dtype: object\n"
     ]
    }
   ],
   "source": [
    "# After preprocessing\n",
    "print(corpus_data.text_with_head_lemm[:10])"
   ]
  },
  {
   "cell_type": "code",
   "execution_count": 2,
   "metadata": {},
   "outputs": [
    {
     "data": {
      "text/plain": [
       "(108, 2526)"
      ]
     },
     "execution_count": 2,
     "metadata": {},
     "output_type": "execute_result"
    }
   ],
   "source": [
    "# Convert to dataframes, titles and texts\n",
    "Titles = corpus_data.titles_lemm.tolist()\n",
    "Texts = corpus_data.text_with_head_lemm.tolist()\n",
    "\n",
    "# Convert to document-term matrix with single words as untis.\n",
    "cv = CountVectorizer(ngram_range = (1,1))\n",
    "cv.fit(Texts)\n",
    "vectorized_text=cv.transform(Texts)\n",
    "\n",
    "# Make dense matrix from sparse matrix\n",
    "vectorized_text=vectorized_text.todense()\n",
    "vectorized_text.shape"
   ]
  },
  {
   "cell_type": "code",
   "execution_count": 3,
   "metadata": {},
   "outputs": [
    {
     "data": {
      "text/plain": [
       "Text(0, 0.5, 'count')"
      ]
     },
     "execution_count": 3,
     "metadata": {},
     "output_type": "execute_result"
    },
    {
     "data": {
      "image/png": "[encoded data removed]",
      "text/plain": [
       "<Figure size 432x288 with 1 Axes>"
      ]
     },
     "metadata": {
      "needs_background": "light"
     },
     "output_type": "display_data"
    }
   ],
   "source": [
    "# Explore word frequencies\n",
    "\n",
    "sumcolumn=vectorized_text.sum(axis=0)\n",
    "\n",
    "plt.hist(sumcolumn.T, color = 'blue', edgecolor = 'black', bins=100)\n",
    "\n",
    "plt.title('Histogram of Feature Counts')\n",
    "plt.xlabel('term')\n",
    "plt.ylabel('count')"
   ]
  },
  {
   "cell_type": "markdown",
   "metadata": {},
   "source": [
    "# EM algorithm"
   ]
  },
  {
   "cell_type": "code",
   "execution_count": 7,
   "metadata": {},
   "outputs": [],
   "source": [
    "def _multi_mle(X, w):\n",
    "    X = X * w[:, np.newaxis]\n",
    "    return X.sum(axis=0) / X.sum()\n",
    "\n",
    "def _multi_ll(X, params):\n",
    "    return X @ np.log(params).T\n",
    "\n",
    "def m_step(X, r):\n",
    "    _, K = r.shape\n",
    "    _, P = X.shape\n",
    "\n",
    "    new_params = np.zeros((K, P))\n",
    "    for i in np.arange(K):\n",
    "        new_params[i, :] = _multi_mle(X, r[:, i])\n",
    "\n",
    "    priors = r.sum(axis=0) / r.sum()\n",
    "    return priors, new_params\n",
    "\n",
    "\n",
    "def e_step(X, params, priors):\n",
    "''' whatchout for numerical stability here! use logs to avoid underflow and/or put an epsilon floor'''\n",
    "\n",
    "    loglik = _multi_ll(X, params)\n",
    "\n",
    "    # Sum across axis 1 to get prob per observation, then sum logs to get total probability\n",
    "    total_ll = np.sum(logsumexp(loglik, axis=1))\n",
    "\n",
    "    joint = loglik + np.log(priors)\n",
    "    marginal = logsumexp(joint, axis=1)\n",
    "    probs = joint - marginal[:, np.newaxis]\n",
    "    probs = np.exp(probs)\n",
    "\n",
    "    return probs, total_ll\n",
    "\n",
    "def em_algo(X, priors, max_iter=100, tol=0.5):\n",
    "    X = np.array(X)\n",
    "\n",
    "    # add epsilon count to each feature to avoid zero probabilities for any feature in any class\n",
    "    X = X+1e-7\n",
    "\n",
    "    K, = priors.shape\n",
    "    _, P = X.shape\n",
    "    \n",
    "    #random initialization\n",
    "    params = np.random.uniform(0, 1, (K, P))\n",
    "    params /= params.sum(1)[:, np.newaxis]\n",
    "\n",
    "    loglik = 0\n",
    "    for _ in range(max_iter):\n",
    "        r, loglik_ = e_step(X, params, priors)\n",
    "        priors, params = m_step(X, r)\n",
    "        if np.abs(loglik - loglik_) < tol:\n",
    "            break\n",
    "        loglik = loglik_\n",
    "\n",
    "    return r, params"
   ]
  },
  {
   "cell_type": "code",
   "execution_count": 9,
   "metadata": {},
   "outputs": [
    {
     "name": "stdout",
     "output_type": "stream",
     "text": [
      "[0. 0. 1. 0. 0. 0. 0. 0. 0. 0. 0. 0. 0. 1. 0. 1. 1. 0. 0. 0. 1. 0. 0. 0.\n",
      " 0. 1. 1. 0. 0. 0. 0. 0. 0. 0. 0. 0. 0. 0. 0. 0. 0. 0. 0. 0. 0. 0. 0. 1.\n",
      " 1. 0. 1. 0. 0. 1. 0. 1. 0. 0. 0. 0. 1. 0. 1. 0. 1. 1. 1. 1. 1. 0. 0. 1.\n",
      " 0. 1. 0. 0. 1. 0. 0. 0. 1. 0. 1. 1. 0. 1. 0. 0. 0. 0. 1. 1. 0. 0. 1. 0.\n",
      " 0. 1. 1. 1. 1. 1. 0. 0. 0. 1. 1. 0.]\n"
     ]
    }
   ],
   "source": [
    "# Set prior\n",
    "prior= np.array([0.5, 0.5])\n",
    "vectorized_text=np.array(vectorized_text)\n",
    "\n",
    "#here I am calling nandan's code\n",
    "classes, betas=em_algo(vectorized_text, prior)\n",
    "\n",
    "# Print output\n",
    "print(np.round(classes[:,0], 2))"
   ]
  },
  {
   "cell_type": "code",
   "execution_count": 11,
   "metadata": {},
   "outputs": [
    {
     "name": "stdout",
     "output_type": "stream",
     "text": [
      "2\n",
      "eu eye expanding trade tie turkey modernizing custom union\n",
      "13\n",
      "russia turkey iran launch joint effort revive political process syria\n",
      "15\n",
      "turkey open first undersea tunnel linking istanbul 's asian european part\n",
      "16\n",
      "spotlight envoy murder may strengthen russia-turkey-iran anti-terror cooperation russian expert\n",
      "20\n",
      "russia sends task force turkey probe ambassador 's murder\n",
      "25\n",
      "sri lanka strongly condemns assassination russia 's ambassador turkey\n",
      "26\n",
      "chinese fm sends message condolence russia assassination ambassador\n",
      "47\n",
      "1st ld russia confirms ambassador turkey attacked gunman\n",
      "48\n",
      "urgent russia confirms ambassador turkey attacked gunman\n",
      "50\n",
      "isesco condemns bombing attack turkey\n",
      "53\n",
      "thousand protest pkk terror attack turkey\n",
      "55\n",
      "117 wounded aleppians transferred turkish hospital\n",
      "60\n",
      "iran turkey russia fm meet moscow syria spokesman\n",
      "62\n",
      "injury reported explosion near university campus southern turkey\n",
      "64\n",
      "rebel ' failure fulfill deal cause suspension aleppo evacuation source\n",
      "65\n",
      "austria still & quot open dialogue & quot despite escalation dispute turkey minister\n",
      "66\n",
      "china seeking surplus turkey trading partner diplomat\n",
      "67\n",
      "eu leader reaffirm commitment migration deal turkey\n",
      "68\n",
      "new analysis opinion still divided eve eu summit brussels\n",
      "71\n",
      "chinese president sends condolence turkish counterpart terror attack\n",
      "73\n",
      "568 suspect detained anti-terror operation across turkey\n",
      "76\n",
      "xinhua middle east news summary 2200 gmt dec. 12\n",
      "80\n",
      "bulgaria seizes 50 kg heroin border turkey\n",
      "82\n",
      "turkish economy shrink first time since 2009\n",
      "83\n",
      "poll show slovenian fear new migration wave\n",
      "85\n",
      "turkey detains 118 opposition hdp member suspected pkk link\n",
      "90\n",
      "turkey 's political leader condemn istanbul terror attack\n",
      "91\n",
      "xinhua mideast weekly news review ( dec. 4-10 2016 )\n",
      "94\n",
      "hungarian foreign ministry condemns istanbul terrorist attack\n",
      "97\n",
      "iran condemns istanbul 's deadly explosion\n",
      "98\n",
      "turkey mourns victim twin bombing istanbul\n",
      "99\n",
      "uae condemns twin bomb attack istanbul\n",
      "100\n",
      "turkey declares day national mourning terror attack\n",
      "101\n",
      "pakistan strongly condemns terrorist attack istanbul\n",
      "105\n",
      "spotlight int ' l intervention syria ha become direct\n",
      "106\n",
      "nato train iraqi officer cyber defense\n"
     ]
    }
   ],
   "source": [
    "# What classes have been created by the EM algorithm?\n",
    "\n",
    "class1=np.round(classes[:,0], 2)\n",
    "ids1 = np.where(class1==1)[0]\n",
    "for textid in ids1:\n",
    "    print(textid)\n",
    "    print(Titles[textid])"
   ]
  },
  {
   "cell_type": "code",
   "execution_count": 12,
   "metadata": {},
   "outputs": [
    {
     "name": "stdout",
     "output_type": "stream",
     "text": [
      "0\n",
      "news analysis assassination russian envoy could accelerate rapprochement russia turkey\n",
      "1\n",
      "sisi voice putin egypt 's solidarity russia terrorism\n",
      "3\n",
      "turkey 's president say russian envoy 's assassin wa gulenist\n",
      "4\n",
      "lao extends condolence tragic event germany turkey\n",
      "5\n",
      "india condemns russian envoy 's assassination turkey\n",
      "6\n",
      "slain russian ambassador 's body arrives moscow\n",
      "7\n",
      "turkey say gulenist behind russian envoy 's murder\n",
      "8\n",
      "turkey hold ceremony assassinated russian envoy\n",
      "9\n",
      "sudan condemns assassination russian ambassador turkey\n",
      "10\n",
      "kurdistan militant group claim attack central turkey\n",
      "11\n",
      "news analysis assassination russian ambassador damage russia-turkey tie\n",
      "12\n",
      "syrian refugee family returned turkey eu-turkey deal\n",
      "14\n",
      "bih tightens security around embassy sarajevo\n",
      "17\n",
      "russian embassy baku tightens security assassination envoy turkey\n",
      "18\n",
      "turkey vow continued cooperation russia syria envoy slaying\n",
      "19\n",
      "russian delegation ankara probe assassination ambassador\n",
      "21\n",
      "roundup int ' l community condemns assassination russian ambassador turkey\n",
      "22\n",
      "u.s. embassy ankara say close mission turkey tuesday\n",
      "23\n",
      "maldives strongly condemns assassination russian ambassador turkey\n",
      "24\n",
      "singapore condemns killing russian ambassador ankara\n",
      "27\n",
      "murder russian ambassador turkey shock loss russian fm spokeswoman\n",
      "28\n",
      "egypt condemns assassination russian ambassador turkey\n",
      "29\n",
      "xinhua world news summary 0030 gmt dec. 20\n",
      "30\n",
      "slovenia condemns killing russian ambassador turkey\n",
      "31\n",
      "update un condemns assassination russian ambassador turkey\n",
      "32\n",
      "un chief condemns assassination russian ambassador turkey\n",
      "33\n",
      "belarus strongly condemns murder russian ambassador turkey\n",
      "34\n",
      "greece condemns murder russian envoy turkey greek national among injured\n",
      "35\n",
      "erdogan condemns assassination russian ambassador turkey\n",
      "36\n",
      "iran condemns assassination russian envoy turkey\n",
      "37\n",
      "iraq condemns assassination russian ambassador turkey\n",
      "38\n",
      "2nd ld writethru russian ambassador turkey killed gunman attack ankara\n",
      "39\n",
      "u.s. condemns assassination russian ambassador turkey\n",
      "40\n",
      "france denounces killing russian envoy ankara\n",
      "41\n",
      "3rd ld russian ambassador turkey shot dead ankara\n",
      "42\n",
      "1st ld russian ambassador turkey dy gunman attack ankara\n",
      "43\n",
      "urgent russian foreign ministry confirms ambassador turkey dead\n",
      "44\n",
      "urgent russian foreign ministry confirms ambassador turkey dy gunman attack ankara\n",
      "45\n",
      "russian ambassador turkey karlov dy shot attack ankara medium\n",
      "46\n",
      "2nd ld russian ambassador turkey karlov shot ankara\n",
      "49\n",
      "1st ld russian ambassador turkey shot ankara\n",
      "51\n",
      "official say turkey intending accept evacuee aleppo\n",
      "52\n",
      "lebanon urge joint action eliminate terrorist threat\n",
      "54\n",
      "news analysis russia turkey seek political solution syrian war aleppo evacuation\n",
      "56\n",
      "spotlight better intelligence le polarization needed counterterrorism analyst\n",
      "57\n",
      "algeria condemns car bomb attack turkey\n",
      "58\n",
      "pakistan condemns terrorist attack turkey\n",
      "59\n",
      "update 2 13 killed bomb attack central turkey\n",
      "61\n",
      "update 1 soldier transporting bus hit explosion central turkey\n",
      "63\n",
      "turkey set 10,000 tent aleppo refugee\n",
      "69\n",
      "eu summit convene discus migration security\n",
      "70\n",
      "news analysis pkk attack turkey different objective\n",
      "72\n",
      "slovenian president say visit turkey trust-building cooperation\n",
      "74\n",
      "44th sofia int ' l book fair open bulgaria\n",
      "75\n",
      "news analysis wa turkey hit terrorist attack\n",
      "77\n",
      "spotlight challenge-ridden turkey set bump along 2017\n",
      "78\n",
      "1st ld f-16 fighter jet crash se turkey\n",
      "79\n",
      "urgent f-16 fighter jet crash southeastern turkey\n",
      "81\n",
      "turkey ambassador israel take office long vacancy\n",
      "84\n",
      "china condemns terrorist attack turkey egypt\n",
      "86\n",
      "roundup un security council country denounce terror attack istanbul\n",
      "87\n",
      "2nd ld writethru un security council slam deadly terrorist attack istanbul\n",
      "88\n",
      "1st ld un security council slam deadly terrorist attack istanbul\n",
      "89\n",
      "urgent un security council slam deadly terrorist attack istanbul\n",
      "92\n",
      "abbas condemns bombing attack egypt turkey\n",
      "93\n",
      "council europe chief condemns terrorist attack turkey\n",
      "95\n",
      "french president condemns explosion turkey\n",
      "96\n",
      "israeli pm condemns deadly attack istanbul\n",
      "102\n",
      "1st ld writethru un chief slam deadly terrorist attack istanbul\n",
      "103\n",
      "urgent un chief slam deadly terrorist attack istanbul\n",
      "104\n",
      "turkish ruling party submits constitutional amendment draft\n",
      "107\n",
      "turkey issue detention warrant 87 scholar coup probe\n"
     ]
    }
   ],
   "source": [
    "ids0 = np.where(class1==0)[0]\n",
    "for textid in ids0:\n",
    "    print(textid)\n",
    "    print(Titles[textid])"
   ]
  },
  {
   "cell_type": "code",
   "execution_count": 13,
   "metadata": {},
   "outputs": [
    {
     "name": "stdout",
     "output_type": "stream",
     "text": [
      "top terms in first class\n",
      "zurich\n",
      "route\n",
      "ruining\n",
      "gaza\n",
      "gathering\n",
      "\n",
      "top terms in second class\n",
      "speed\n",
      "bombings\n",
      "equipped\n",
      "turkeysri\n",
      "es\n"
     ]
    }
   ],
   "source": [
    "# A different kind of summary\n",
    "topind = np.argsort(betas)\n",
    "\n",
    "# list out keys and values separately \n",
    "key_list = list(cv.vocabulary_.keys()) \n",
    "val_list = list(cv.vocabulary_.values()) \n",
    "print(\"top terms in first class\")\n",
    "for term in topind[0,:5]:\n",
    "    print(key_list[val_list.index(term)]) \n",
    "print(\"\")\n",
    "print(\"top terms in second class\")\n",
    "for term in topind[1,:5]:\n",
    "    print(key_list[val_list.index(term)]) "
   ]
  },
  {
   "cell_type": "code",
   "execution_count": 23,
   "metadata": {},
   "outputs": [
    {
     "name": "stdout",
     "output_type": "stream",
     "text": [
      "Counter({0: 51, 1: 11, 2: 6, 5: 1, 7: 1, 3: 1, 4: 1})\n",
      "Counter({0: 31, 1: 3, 3: 1, 4: 1})\n",
      "Counter({0: 63, 1: 5, 2: 3, 5: 1})\n",
      "Counter({0: 31, 2: 3, 1: 2})\n",
      "Counter({0: 46, 1: 16, 2: 5, 3: 3, 4: 2})\n",
      "Counter({0: 34, 1: 2})\n",
      "Counter({0: 55, 1: 12, 3: 2, 2: 1, 4: 1, 6: 1})\n",
      "Counter({0: 28, 1: 7, 2: 1})\n",
      "Counter({0: 27, 1: 16, 2: 12, 3: 8, 5: 4, 6: 2, 7: 1, 9: 1, 4: 1})\n",
      "Counter({0: 18, 1: 10, 2: 7, 5: 1})\n",
      "Counter({0: 33, 4: 10, 3: 8, 5: 6, 6: 5, 2: 3, 8: 2, 9: 2, 7: 1, 15: 1, 1: 1})\n",
      "Counter({0: 28, 2: 5, 1: 2, 6: 1})\n",
      "Counter({0: 27, 1: 13, 3: 7, 2: 7, 5: 6, 4: 6, 6: 3, 8: 1, 10: 1, 15: 1})\n",
      "Counter({0: 21, 1: 4, 4: 3, 2: 3, 5: 2, 3: 2, 6: 1})\n",
      "Counter({0: 21, 2: 17, 1: 10, 3: 7, 5: 5, 6: 4, 9: 3, 4: 3, 7: 1, 22: 1})\n",
      "Counter({0: 11, 2: 10, 1: 7, 3: 3, 6: 2, 5: 1, 4: 1, 7: 1})\n",
      "Counter({3: 19, 1: 15, 2: 11, 4: 7, 5: 5, 9: 3, 6: 2, 20: 2, 7: 2, 14: 2, 19: 1, 11: 1, 10: 1, 35: 1})\n",
      "Counter({3: 13, 2: 8, 1: 5, 5: 4, 12: 2, 4: 2, 8: 1, 11: 1})\n",
      "Counter({0: 52, 3: 8, 4: 5, 1: 3, 2: 2, 7: 1, 6: 1})\n",
      "Counter({0: 33, 1: 1, 4: 1, 2: 1})\n",
      "Counter({0: 31, 1: 27, 2: 13, 3: 1})\n",
      "Counter({0: 21, 1: 10, 2: 3, 3: 2})\n",
      "Counter({0: 36, 1: 14, 2: 13, 3: 5, 4: 4})\n",
      "Counter({0: 29, 1: 4, 2: 3})\n",
      "Counter({0: 57, 1: 7, 3: 2, 2: 2, 6: 2, 7: 1, 11: 1})\n",
      "Counter({0: 31, 1: 3, 2: 1, 6: 1})\n",
      "Counter({0: 51, 1: 8, 2: 7, 3: 4, 5: 1, 4: 1})\n",
      "Counter({0: 26, 1: 6, 4: 2, 3: 1, 2: 1})\n",
      "Counter({0: 36, 1: 22, 3: 7, 2: 4, 5: 3})\n",
      "Counter({0: 23, 1: 9, 2: 2, 5: 1, 3: 1})\n",
      "Counter({0: 44, 1: 13, 2: 5, 3: 4, 4: 3, 5: 2, 6: 1})\n",
      "Counter({0: 24, 1: 6, 2: 4, 3: 1, 4: 1})\n",
      "Counter({0: 53, 1: 8, 3: 5, 4: 2, 2: 2, 7: 1, 10: 1})\n",
      "Counter({0: 27, 1: 5, 3: 1, 2: 1, 4: 1, 7: 1})\n",
      "Counter({0: 42, 1: 16, 2: 6, 3: 4, 4: 3, 5: 1})\n",
      "Counter({0: 20, 1: 8, 2: 6, 5: 1, 3: 1})\n",
      "Counter({0: 43, 1: 15, 2: 6, 4: 3, 7: 1, 5: 1, 6: 1, 13: 1, 3: 1})\n",
      "Counter({0: 22, 1: 10, 3: 2, 2: 1, 6: 1})\n",
      "Counter({0: 72})\n",
      "Counter({0: 35, 1: 1})\n",
      "Counter({0: 45, 1: 11, 2: 6, 3: 3, 16: 2, 5: 2, 6: 2, 4: 1})\n",
      "Counter({0: 26, 2: 3, 3: 2, 1: 2, 10: 1, 5: 1, 4: 1})\n",
      "Counter({0: 27, 1: 13, 3: 7, 2: 7, 5: 6, 4: 6, 6: 3, 8: 1, 10: 1, 15: 1})\n",
      "Counter({0: 21, 1: 4, 4: 3, 2: 3, 5: 2, 3: 2, 6: 1})\n",
      "Counter({0: 48, 1: 14, 2: 4, 7: 3, 3: 2, 6: 1})\n",
      "Counter({0: 21, 3: 4, 4: 4, 1: 3, 5: 2, 2: 2})\n",
      "Counter({3: 19, 1: 15, 2: 11, 4: 7, 5: 5, 9: 3, 6: 2, 20: 2, 7: 2, 14: 2, 19: 1, 11: 1, 10: 1, 35: 1})\n",
      "Counter({3: 13, 2: 8, 1: 5, 5: 4, 12: 2, 4: 2, 8: 1, 11: 1})\n",
      "Counter({0: 44, 1: 13, 2: 5, 3: 4, 4: 3, 5: 2, 6: 1})\n",
      "Counter({0: 24, 1: 6, 2: 4, 3: 1, 4: 1})\n",
      "Counter({0: 53, 1: 8, 3: 5, 4: 2, 2: 2, 7: 1, 10: 1})\n",
      "Counter({0: 27, 1: 5, 3: 1, 2: 1, 4: 1, 7: 1})\n",
      "Counter({0: 23, 1: 19, 2: 14, 3: 10, 5: 3, 9: 1, 6: 1, 4: 1})\n",
      "Counter({0: 21, 1: 10, 2: 4, 4: 1})\n",
      "Counter({0: 31, 1: 27, 2: 13, 3: 1})\n",
      "Counter({0: 21, 1: 10, 2: 3, 3: 2})\n",
      "Counter({0: 43, 1: 15, 2: 6, 4: 3, 7: 1, 5: 1, 6: 1, 13: 1, 3: 1})\n",
      "Counter({0: 22, 1: 10, 3: 2, 2: 1, 6: 1})\n",
      "Counter({0: 25, 1: 20, 2: 11, 3: 10, 4: 4, 6: 2})\n",
      "Counter({0: 20, 1: 9, 2: 6, 3: 1})\n",
      "Counter({0: 71, 1: 1})\n",
      "Counter({0: 36})\n"
     ]
    }
   ],
   "source": [
    "df = pd.DataFrame(np.zeros([500, 4]))\n",
    "vectorized_text = pd.DataFrame(vectorized_text)\n",
    "Y1 = [i in ids1 for i in range(0,len(classes))]\n",
    "Y0 = [i in ids0 for i in range(0,len(classes))]\n",
    "\n",
    "i = 0\n",
    "for term in [1449, 1608, 2004, 2110, 1914, 1906, 256, 2345, 2313,  245, 1444, 1247, 2193, 1689, 950, 2233, 2192, 1619, 1042,\n",
    "            608, 1905, 256, 1215, 2313, 2233, 2192, 199, 1444, 1042, 2443, 2330 ]:#Counter(vectorized_text.iloc[Y0, :].sum(axis= 0).sort_values()[-5:].index):\n",
    "    \n",
    "    \n",
    "    zero_counts = Counter(vectorized_text.iloc[Y0, term])\n",
    "    print(zero_counts)\n",
    "    \n",
    "    for key, value in zero_counts.items():\n",
    "        \n",
    "        df.iloc[i, 0] = key_list[val_list.index(term)]\n",
    "        df.iloc[i, 1] = 0\n",
    "        df.iloc[i, 2] = key\n",
    "        df.iloc[i, 3] = value\n",
    "        i+=1\n",
    "        \n",
    "    one_counts = Counter(vectorized_text.iloc[Y1, term])\n",
    "    print(one_counts)\n",
    "    \n",
    "    for key, value in one_counts.items():\n",
    "        \n",
    "        df.iloc[i, 0] = key_list[val_list.index(term)]\n",
    "        df.iloc[i, 1] = 1\n",
    "        df.iloc[i, 2] = key\n",
    "        df.iloc[i, 3] = value     \n",
    "        i +=1\n",
    "    \n",
    "    \n",
    "# for term in Counter(vectorized_text.iloc[Y1, :].sum(axis= 0).sort_values()[-5:].index):\n",
    "    \n",
    "    \n",
    "#     zero_counts =  Counter(vectorized_text.iloc[Y0, term])\n",
    "#     print(zero_counts)\n",
    "    \n",
    "#     for key, value in zero_counts.items():\n",
    "        \n",
    "#         df.iloc[i, 0] = key_list[val_list.index(term)]\n",
    "#         df.iloc[i, 1] = 0\n",
    "#         df.iloc[i, 2] = key\n",
    "#         df.iloc[i, 3] = value\n",
    "#         i+=1\n",
    "        \n",
    "#     one_counts = Counter(vectorized_text.iloc[Y0, term])\n",
    "#     print(one_counts)\n",
    "    \n",
    "#     for key, value in one_counts.items():\n",
    "        \n",
    "#         df.iloc[i, 0] = key_list[val_list.index(term)]\n",
    "#         df.iloc[i, 1] = 1\n",
    "#         df.iloc[i, 2] = key\n",
    "#         df.iloc[i, 3] = value     \n",
    "#         i +=1"
   ]
  },
  {
   "cell_type": "code",
   "execution_count": 244,
   "metadata": {},
   "outputs": [
    {
     "data": {
      "text/html": [
       "<div>\n",
       "<style scoped>\n",
       "    .dataframe tbody tr th:only-of-type {\n",
       "        vertical-align: middle;\n",
       "    }\n",
       "\n",
       "    .dataframe tbody tr th {\n",
       "        vertical-align: top;\n",
       "    }\n",
       "\n",
       "    .dataframe thead th {\n",
       "        text-align: right;\n",
       "    }\n",
       "</style>\n",
       "<table border=\"1\" class=\"dataframe\">\n",
       "  <thead>\n",
       "    <tr style=\"text-align: right;\">\n",
       "      <th></th>\n",
       "      <th>0</th>\n",
       "      <th>1</th>\n",
       "      <th>2</th>\n",
       "      <th>3</th>\n",
       "    </tr>\n",
       "  </thead>\n",
       "  <tbody>\n",
       "    <tr>\n",
       "      <td>150</td>\n",
       "      <td>0</td>\n",
       "      <td>0.0</td>\n",
       "      <td>0.0</td>\n",
       "      <td>0.0</td>\n",
       "    </tr>\n",
       "    <tr>\n",
       "      <td>151</td>\n",
       "      <td>0</td>\n",
       "      <td>0.0</td>\n",
       "      <td>0.0</td>\n",
       "      <td>0.0</td>\n",
       "    </tr>\n",
       "    <tr>\n",
       "      <td>152</td>\n",
       "      <td>0</td>\n",
       "      <td>0.0</td>\n",
       "      <td>0.0</td>\n",
       "      <td>0.0</td>\n",
       "    </tr>\n",
       "    <tr>\n",
       "      <td>153</td>\n",
       "      <td>0</td>\n",
       "      <td>0.0</td>\n",
       "      <td>0.0</td>\n",
       "      <td>0.0</td>\n",
       "    </tr>\n",
       "  </tbody>\n",
       "</table>\n",
       "</div>"
      ],
      "text/plain": [
       "     0    1    2    3\n",
       "150  0  0.0  0.0  0.0\n",
       "151  0  0.0  0.0  0.0\n",
       "152  0  0.0  0.0  0.0\n",
       "153  0  0.0  0.0  0.0"
      ]
     },
     "execution_count": 244,
     "metadata": {},
     "output_type": "execute_result"
    }
   ],
   "source": [
    "# df = df.iloc[0:154,]\n",
    "df.columns = ['words', 'classn', 'tf', 'numdocs']\n",
    "df.iloc[150:154, ]"
   ]
  },
  {
   "cell_type": "markdown",
   "metadata": {},
   "source": [
    "# Visualise differences in word frequency distributions between our 2 classes"
   ]
  },
  {
   "cell_type": "code",
   "execution_count": 25,
   "metadata": {},
   "outputs": [
    {
     "data": {
      "image/png": "[encoded data removed]",
      "text/plain": [
       "<Figure size 1131.88x1296 with 26 Axes>"
      ]
     },
     "metadata": {
      "needs_background": "light"
     },
     "output_type": "display_data"
    }
   ],
   "source": [
    "kws = dict(linewidth=1)\n",
    "\n",
    "def qqplot(x, y, **kwargs):\n",
    "    sns.lineplot(x, y, **kwargs)\n",
    "    \n",
    "   \n",
    "g = sns.FacetGrid(df, col=\"words\", hue=\"classn\", col_wrap=5)\n",
    "g = (g.map(qqplot, \"tf\", \"numdocs\", **kws)\n",
    "    .add_legend())"
   ]
  },
  {
   "cell_type": "markdown",
   "metadata": {},
   "source": [
    "# LDA"
   ]
  },
  {
   "cell_type": "markdown",
   "metadata": {},
   "source": [
    "LDA model: https://en.wikipedia.org/wiki/Dirichlet_distribution#/media/File:LogDirichletDensity-alpha_0.3_to_alpha_2.0.gif"
   ]
  },
  {
   "cell_type": "code",
   "execution_count": null,
   "metadata": {},
   "outputs": [],
   "source": [
    "# Preprocessing\n",
    "\n",
    "texts = [\n",
    "    [word for word in document.split()]\n",
    "    for document in Texts\n",
    "]\n",
    "\n",
    "frequency = defaultdict(int)\n",
    "for text in texts:\n",
    "    for token in text:\n",
    "        frequency[token] += 1\n",
    "\n",
    "texts = [\n",
    "    [token for token in text if frequency[token] > 1]\n",
    "    for text in texts\n",
    "]\n",
    "\n",
    "#pprint(texts)\n",
    "\n",
    "dictionary = corpora.Dictionary(texts)\n",
    "corpus = [dictionary.doc2bow(text) for text in texts]"
   ]
  },
  {
   "cell_type": "code",
   "execution_count": null,
   "metadata": {},
   "outputs": [],
   "source": [
    "#Estimate LDA model with two topics\n",
    "lda=models.LdaModel(corpus, id2word=dictionary, num_topics=2)\n",
    "\n",
    "lda.print_topics(2)"
   ]
  },
  {
   "cell_type": "code",
   "execution_count": null,
   "metadata": {},
   "outputs": [],
   "source": [
    "get_document_topics = [lda.get_document_topics(item, minimum_probability=0.0000001) for item in corpus]\n",
    "\n",
    "# Results in tuples\n",
    "print(get_document_topics[0:10])"
   ]
  },
  {
   "cell_type": "code",
   "execution_count": null,
   "metadata": {},
   "outputs": [],
   "source": [
    "#getting only the topic shares out of the tuples\n",
    "topic1share=[x[0][1] for x in get_document_topics]\n",
    "topic2share=[x[1][1] for x in get_document_topics]"
   ]
  },
  {
   "cell_type": "code",
   "execution_count": null,
   "metadata": {},
   "outputs": [],
   "source": [
    "# Show clustering\n",
    "plt.scatter(topic1share,topic2share, color='r')\n",
    "plt.xlabel('topic share 1')\n",
    "plt.ylabel('topic share 2')\n",
    "plt.show()"
   ]
  }
 ],
 "metadata": {
  "kernelspec": {
   "display_name": "Python 3",
   "language": "python",
   "name": "python3"
  },
  "language_info": {
   "codemirror_mode": {
    "name": "ipython",
    "version": 3
   },
   "file_extension": ".py",
   "mimetype": "text/x-python",
   "name": "python",
   "nbconvert_exporter": "python",
   "pygments_lexer": "ipython3",
   "version": "3.7.4"
  }
 },
 "nbformat": 4,
 "nbformat_minor": 2
}
