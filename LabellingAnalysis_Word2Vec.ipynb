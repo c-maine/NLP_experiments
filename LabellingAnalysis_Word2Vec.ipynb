{
 "cells": [
  {
   "cell_type": "code",
   "execution_count": 1,
   "metadata": {},
   "outputs": [],
   "source": [
    "!pip install spacy\n",
    "!pip install gensim"
   ]
  },
  {
   "cell_type": "markdown",
   "metadata": {},
   "source": [
    "# Analysing the benefits of labelling with Word2Vec\n",
    "\n",
    "The aim is to see if Word2Vec can use information from unlabelled data to help us classify better.\n",
    "\n",
    "Data is sentiment data for yelps reviews.\n",
    "\n",
    "This notebook is a simulation of the following situation: We have a **small** set of labelled data and a large set of unlabelled data. I aim to show how the 2 techniques compare as the amount of labelled data increases. The model is trained on the small labelled subset performance is tested on the remaining data.\n",
    "\n",
    "In other words, we train on 1k, test on 99k. Then train on 2k, test on 98k. Then train on 4k, test on 96k. Etc.\n",
    "\n",
    "The 2 scenarios are:\n",
    "\n",
    "1. Logistic regression trained on labelled data, documents represented as term-frequency matrix.\n",
    "\n",
    "2. Logistic regression trained on the labelled data, documents represented as word2vec vectors where you train word2vec using the entire dataset. Parameters are: training window size, K-negative, skip-gram vs BOW, training windows, etc.\n",
    "\n",
    "Reference for  word2vec implementation [here](https://radimrehurek.com/gensim/models/word2vec.html)."
   ]
  },
  {
   "cell_type": "markdown",
   "metadata": {},
   "source": [
    "# Load packages"
   ]
  },
  {
   "cell_type": "code",
   "execution_count": 28,
   "metadata": {},
   "outputs": [],
   "source": [
    "# Install packages\n",
    "from sklearn.model_selection import train_test_split\n",
    "import seaborn as sns\n",
    "import os\n",
    "import numpy as np\n",
    "import pandas as pd\n",
    "from sklearn.feature_extraction.text import TfidfVectorizer\n",
    "import nltk\n",
    "from nltk.stem.snowball import SnowballStemmer\n",
    "import re\n",
    "stemmer = SnowballStemmer(\"english\")\n",
    "not_alphanumeric_or_space = re.compile('[^(\\w|\\s|\\d)]')\n",
    "from sklearn.linear_model import LogisticRegression\n",
    "from sklearn.naive_bayes import MultinomialNB\n",
    "from sklearn.metrics import accuracy_score\n",
    "from nltk.corpus import stopwords\n",
    "set(stopwords.words('english'))\n",
    "stop_words = stopwords.words('english')\n",
    "from gensim.test.utils import common_texts, get_tmpfile\n",
    "from gensim.models import Word2Vec\n",
    "import spacy\n",
    "nlp = spacy.load('en_core_web_sm')"
   ]
  },
  {
   "cell_type": "markdown",
   "metadata": {},
   "source": [
    "# Load files and sample"
   ]
  },
  {
   "cell_type": "code",
   "execution_count": 186,
   "metadata": {},
   "outputs": [],
   "source": [
    "# Load files\n",
    "yelps = pd.read_csv('yelps.csv')\n",
    "\n",
    "yelps = yelps.dropna(axis = 0)\n",
    "\n",
    "# Train test splits\n",
    "Y = yelps.positive\n",
    "X = yelps.text\n",
    "\n",
    "# Take sample during development to increase speed\n",
    "# X = X.sample(frac=0.1)\n",
    "# Y = Y.sample(frac=0.1)"
   ]
  },
  {
   "cell_type": "markdown",
   "metadata": {},
   "source": [
    "# Define functions"
   ]
  },
  {
   "cell_type": "code",
   "execution_count": 142,
   "metadata": {},
   "outputs": [],
   "source": [
    "def preprocess(doc,  stop_words= stopwords.words('english')): \n",
    "''' Remove alphanumeric characters, decapitalise, lemmatise and remove stop words'''\n",
    "        doc = doc.replace('-', ' ')\n",
    "        doc = re.sub(not_alphanumeric_or_space, '', doc).lower() \n",
    "        words = [stemmer.stem(word) for word in doc.split() if word not in stop_words]\n",
    "        return(words)\n",
    "\n",
    "\n",
    "def embed_doc(doc, word_vecs):\n",
    "'''Take one document within the whole corpus and transform onto continuous space'''\n",
    "    res = np.zeros(word_vecs.vector_size)\n",
    "    for word in doc:\n",
    "        try: res += word_vecs.get_vector(word)\n",
    "        except: pass\n",
    "    res = res/np.linalg.norm(res)\n",
    "    return res\n",
    "\n",
    "def embed_all(corpus, word_vecs):\n",
    "    embedded_docs = np.empty(shape=(len(corpus), word_vecs.vector_size))\n",
    "    for i, doc in enumerate(corpus):\n",
    "        embedded_docs[i]=embed_doc(doc, word_vecs)\n",
    "    return(embedded_docs)\n",
    "\n",
    "vectorizer = TfidfVectorizer(use_idf = False, # Use counts not idfs\n",
    "                             norm= False, # We want actual counts not adjusted numbers\n",
    "                             preprocessor = None, # Neat way of passing my preprocessor - note that it's not used here as we preprocess separately\n",
    "                             min_df = 5, # Min occurrences of word across all docs\n",
    "                             max_df = 0.85, # Max occurrences across all docs\n",
    "                             stop_words = None) # Stop words removed during preprocessing"
   ]
  },
  {
   "cell_type": "markdown",
   "metadata": {},
   "source": [
    "#  Prepare and embed"
   ]
  },
  {
   "cell_type": "code",
   "execution_count": 2,
   "metadata": {},
   "outputs": [],
   "source": [
    "# Prepared X words\n",
    "prep_X_words = [preprocess(doc) for doc in X]\n",
    "# Prepared X documents\n",
    "prep_X_docs = [' '.join(doc) for doc in prep_X_words]\n",
    "\n",
    "# Define parameters for the word2Vec transformations (these should be tuned ideally)\n",
    "embedding = 120\n",
    "model = Word2Vec(prep_X_words, min_count=5, size=embedding, window = 8)\n",
    "model.train(prep_X_words, total_examples=len(prep_X_words), epochs=8)\n",
    "word_vecs = model.wv\n",
    "del model\n",
    "\n",
    "# Embed everything!\n",
    "embedded_docs = embed_all(prep_X_words, word_vecs)"
   ]
  },
  {
   "cell_type": "markdown",
   "metadata": {},
   "source": [
    "# Run"
   ]
  },
  {
   "cell_type": "code",
   "execution_count": 3,
   "metadata": {
    "scrolled": true
   },
   "outputs": [],
   "source": [
    "model = LogisticRegression(solver = 'liblinear')\n",
    "\n",
    "all_simple_scores = []\n",
    "all_embedded_scores = []\n",
    "splits  = [0.01, 0.02, 0.04, 0.08, 0.16, 0.32, 0.64, 0.84, 0.92, 0.96, 0.98, 0.99]\n",
    "\n",
    "for cut in splits:\n",
    "    \n",
    "    # Define test and train sets\n",
    "    train_raw, test_raw, train_emb, test_emb, train_y, test_y = train_test_split(prep_X_docs, \n",
    "                                                                                embedded_docs, \n",
    "                                                                                Y, \n",
    "                                                                                train_size=(1- cut))\n",
    "\n",
    "    # ** FIX NEEDED ** For some strange reason, 10 numbers get embedded as infinity values... \n",
    "    # Here I replace them with zeros to allow us to proceed; in reality they should be removed\n",
    "    train_emb = np.array(pd.DataFrame(train_emb).fillna(0))\n",
    "    test_emb = np.array(pd.DataFrame(test_emb).fillna(0))\n",
    "    \n",
    "    train_X = vectorizer.fit_transform(train_raw)\n",
    "    test_X = vectorizer.transform(test_raw)\n",
    "    \n",
    "    model.fit(train_X, train_y)\n",
    "    pred_Y = model.predict(test_X)   \n",
    "    all_simple_scores.append(sum(pred_Y == test_y) /len(test_y))\n",
    "    \n",
    "    \n",
    "    model.fit(train_emb, train_y)\n",
    "    pred_Y = model.predict(test_emb)\n",
    "    all_embedded_scores.append(sum(pred_Y==test_y)/len(test_y))"
   ]
  },
  {
   "cell_type": "markdown",
   "metadata": {},
   "source": [
    "# Graph"
   ]
  },
  {
   "cell_type": "code",
   "execution_count": 256,
   "metadata": {},
   "outputs": [],
   "source": [
    "# Prepare to graph\n",
    "results1 = pd.DataFrame(all_simple_scores)\n",
    "results1.loc[:, 1] = 'simple'\n",
    "results1.loc[:, 2] = [str(i) for i in splits]\n",
    "results2 = pd.DataFrame(all_embedded_scores)\n",
    "results2.loc[:, 1] = 'embedded'\n",
    "results2.loc[:, 2] = [str(i) for i in splits]\n",
    "results = pd.concat([results1, results2])\n",
    "results.columns  = ['Test accuracy score', 'Data preprocessing', '% data in test split']"
   ]
  },
  {
   "cell_type": "code",
   "execution_count": 260,
   "metadata": {},
   "outputs": [
    {
     "data": {
      "image/png": "[encoded data removed]",
      "text/plain": [
       "<Figure size 1080x432 with 1 Axes>"
      ]
     },
     "metadata": {},
     "output_type": "display_data"
    }
   ],
   "source": [
    "# Visualise results\n",
    "sns.set(rc={'figure.figsize':(15,6)})\n",
    "ax = sns.lineplot(x=\"% data in test split\", y=\"Test accuracy score\",  hue=\"Data preprocessing\", data=results)"
   ]
  },
  {
   "cell_type": "markdown",
   "metadata": {},
   "source": [
    "## Comments\n",
    "\n",
    "- With a very small amount of data in training (on the RHS of the graph), our embedded docs are the clear winners.\n",
    "- At some stage, when the ampunt of training data increases above some threshold(around 65%) in testing versus 35% in training, this trend reverses.\n",
    "- I believe that with such small testing numbers, the results on the left hand side become unreliable."
   ]
  }
 ],
 "metadata": {
  "kernelspec": {
   "display_name": "Python 3",
   "language": "python",
   "name": "python3"
  },
  "language_info": {
   "codemirror_mode": {
    "name": "ipython",
    "version": 3
   },
   "file_extension": ".py",
   "mimetype": "text/x-python",
   "name": "python",
   "nbconvert_exporter": "python",
   "pygments_lexer": "ipython3",
   "version": "3.7.4"
  },
  "name": "assignment.ipynb"
 },
 "nbformat": 4,
 "nbformat_minor": 2
}
