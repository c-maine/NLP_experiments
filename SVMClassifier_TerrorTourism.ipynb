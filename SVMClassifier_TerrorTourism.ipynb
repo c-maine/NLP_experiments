{
 "cells": [
  {
   "cell_type": "markdown",
   "metadata": {},
   "source": [
    "# Implementation of SVM Classifer: Terror and tourism"
   ]
  },
  {
   "cell_type": "markdown",
   "metadata": {},
   "source": [
    "The aim is to train an algorithm to spot violence against tourists in news articles.  Here we implement a SVM Classifier using the unigram text and plotted the ROC and Precision/Recall graphs.\n",
    "\n",
    "The context is the economic consequences of media coverage. This work was developed by Hannes Mueller, Tim Besley and Thiemo Fetzer (\n",
    "https://www.barcelonagse.eu/research/working-papers/terror-and-tourism-economic-consequences-media-coverage). The data is not available as the work is unpublished."
   ]
  },
  {
   "cell_type": "markdown",
   "metadata": {},
   "source": [
    "# Load packages"
   ]
  },
  {
   "cell_type": "code",
   "execution_count": 68,
   "metadata": {
    "ExecuteTime": {
     "end_time": "2020-07-03T14:53:40.077604Z",
     "start_time": "2020-07-03T14:53:40.072770Z"
    }
   },
   "outputs": [],
   "source": [
    "from scipy import interp\n",
    "import matplotlib.pyplot as plt\n",
    "from sklearn.model_selection import train_test_split\n",
    "from sklearn.metrics import roc_auc_score\n",
    "from sklearn.metrics import average_precision_score\n",
    "from sklearn.model_selection import KFold\n",
    "from sklearn.decomposition import TruncatedSVD\n",
    "from sklearn.naive_bayes import MultinomialNB\n",
    "from sklearn.utils.class_weight import compute_sample_weight\n",
    "from sklearn.utils import class_weight\n",
    "from sklearn.model_selection import KFold\n",
    "from sklearn.metrics import precision_recall_curve\n",
    "from sklearn.model_selection import GridSearchCV\n",
    "from sklearn.svm import SVC\n",
    "import scikitplot.metrics as metrics \n",
    "from sklearn.metrics import roc_auc_score"
   ]
  },
  {
   "cell_type": "markdown",
   "metadata": {},
   "source": [
    "# Preprocessing code"
   ]
  },
  {
   "cell_type": "code",
   "execution_count": null,
   "metadata": {},
   "outputs": [],
   "source": [
    "os.environ[\"PATH\"] += os.pathsep + 'C:\\\\Program Files (x86)\\\\Graphviz2.38\\\\bin'\n",
    "\n",
    "#this is loading a dataset of news items on chinese news on Turkey\n",
    "filename =\"extended_data_train.csv\"\n",
    "# uploading the data\n",
    "corpus_data = pd.read_csv(os.path.join(path, filename), sep=',', encoding='utf-8')\n",
    "corpus_data.info()\n",
    "\n",
    "#issuing_iso3c is the origin of the news\n",
    "#TITLE_EN is the title in english\n",
    "#TEXT_EN is the title in english\n",
    "#these two make our text data\n",
    "\n",
    "#we had an RA code a subset of these news items so that they contain labels\n",
    "#label_1 is indicating whether there was fatal violence (coded by a Research Assistant)\n",
    "#label_2 is indicating whether a tourist was attacked (coded by a Research Assistant)\n",
    "\n",
    "\n",
    "#getting a library of stopwords and defining a lemmatizer\n",
    "new_stopwords = set(stopwords.words('english'))\n",
    "lmtzr = WordNetLemmatizer()\n",
    "\n",
    "corpus_data['titles_lemm'] = \"\"\n",
    "for ind,line in corpus_data.iterrows():\n",
    "    tit = corpus_data.TITLE_EN.iloc[ind]\n",
    "    tit_tok = nltk.word_tokenize(tit)\n",
    "    tit_lem = []\n",
    "    for tok in tit_tok:\n",
    "        tit_lem.append(lmtzr.lemmatize(tok.lower()))\n",
    "    tit_filter = [word for word in tit_lem if word not in new_stopwords]\n",
    "    tit_filter_dop = [word for word in tit_filter if word not in \"'s\"]\n",
    "    tit_filter_dop = [sub('[^\\w|\\s]', '', f'{w}') for w in tit_filter_dop]  # change 1: adj preprocessing\n",
    "    tit_string = ' '.join(tit_filter_dop)\n",
    "    if tit_string == ' ':\n",
    "        corpus_data.at[ind, 'titles_lemm']='---'\n",
    "    else:\n",
    "        corpus_data.at[ind, 'titles_lemm']=tit_string\n",
    "        \n",
    "corpus_data=corpus_data.dropna(subset=['titles_lemm'])\n",
    "corpus_data=corpus_data.reset_index() \n",
    "\n",
    "print(\"done with titles\")\n",
    "\n",
    "corpus_data['text_with_head_lemm'] = \"\"\n",
    "for ind,line in corpus_data.iterrows():\n",
    "    #tit = corpus_data.TXT_EN.iloc[ind] # or keeping text only (title is already included)\n",
    "    tit = corpus_data.TITLE_EN.iloc[ind] + ' ' + corpus_data.TXT_EN.iloc[ind] # change 2: add space\n",
    "    tit_tok = nltk.word_tokenize(tit)\n",
    "    tit_lem = []\n",
    "    for tok in tit_tok:\n",
    "        tit_lem.append(lmtzr.lemmatize(tok.lower()))\n",
    "    tit_filter = [word for word in tit_lem if word not in new_stopwords]\n",
    "    tit_filter_dop = [word for word in tit_filter if word not in \"'s\"]\n",
    "    tit_filter_dop = [sub('[^\\w|\\s]', '', f'{w}') for w in tit_filter_dop]  # change 3: adj preprocessing\n",
    "    tit_string = ' '.join(tit_filter_dop)\n",
    "    if tit_string == ' ':\n",
    "        corpus_data.at[ind,'text_with_head_lemm']='---'\n",
    "    else:\n",
    "        corpus_data.at[ind,'text_with_head_lemm']=tit_string\n",
    "\n",
    "print(\"done with text plus titles\")\n",
    "\n",
    "corpus_data = corpus_data[pd.notna(corpus_data.label_1)].reset_index(drop=True)\n",
    "corpus_data = corpus_data.dropna(subset=['titles_lemm']).reset_index(drop=True)\n",
    "\n",
    "corpus_data  = corpus_data[['text_with_head_lemm', 'titles_lemm',\n",
    "                          'label_0','label_1','label_2','label_3']]\n",
    "corpus_data.info()"
   ]
  },
  {
   "cell_type": "markdown",
   "metadata": {},
   "source": [
    "# SVM classifier"
   ]
  },
  {
   "cell_type": "code",
   "execution_count": null,
   "metadata": {},
   "outputs": [],
   "source": [
    "# Preprocess data\n",
    "\n",
    "cv1 = CountVectorizer(ngram_range = (1,1), min_df=50)\n",
    "cv1.fit(Titles)\n",
    "vectorized_titles1=cv1.transform(Titles)\n",
    "cv1.fit(Texts)\n",
    "vectorized_text1=cv1.transform(Texts)\n",
    "\n",
    "print(\"Done with vectorizing\")\n",
    "\n",
    "svd = TruncatedSVD(100)\n",
    "svd.fit(vectorized_titles1)\n",
    "reduced_titles1=svd.transform(vectorized_titles1)\n",
    "svd.fit(vectorized_text1)\n",
    "reduced_text1=svd.transform(vectorized_text1)\n",
    "\n",
    "print(\"Done with pre-processing\")"
   ]
  },
  {
   "cell_type": "code",
   "execution_count": null,
   "metadata": {},
   "outputs": [],
   "source": [
    "# Train test split\n",
    "labels_2_np=np.array(labels_2)\n",
    "X_train, X_test, y_train_l2, y_test_l2 = train_test_split(reduced_text1, labels_2_np, test_size=0.33, random_state=100)\n",
    "\n",
    "# Gridsearch parameters\n",
    "Cs = [0.001, 0.01, 0.1, 1, 10]\n",
    "gammas = [0.001, 0.01, 0.1, 1]\n",
    "param_grid = {'C': Cs, 'gamma' : gammas}\n",
    "\n",
    "# Gridsearch with Support Vector Machine - Classifier\n",
    "grid_search = GridSearchCV(svm.SVC(kernel='rbf'), param_grid, cv=5)\n",
    "grid_search.fit(X_train, y_train_l2)\n",
    "print(grid_search.best_params_)\n",
    "y_pred_uni = grid_search.predict(X_test)\n",
    "scores = grid_search.decision_function(X_test)"
   ]
  },
  {
   "cell_type": "code",
   "execution_count": 76,
   "metadata": {
    "ExecuteTime": {
     "end_time": "2020-07-03T14:57:15.593497Z",
     "start_time": "2020-07-03T14:57:15.581307Z"
    }
   },
   "outputs": [
    {
     "name": "stdout",
     "output_type": "stream",
     "text": [
      "this means the zeros have a weight that is 56.0735294117647 times higher\n",
      "STATS FROM FOLD 0\n",
      "With balanced test set\n",
      "Title, Unigrams, SVC. AUC: 0.741335755387914, Precision: 0.7400385487570535\n"
     ]
    }
   ],
   "source": [
    "#calculating weights\n",
    "weight = y_test_l2.astype(int).shape[0]/(2*np.bincount(y_test_l2.astype(int)))\n",
    "weightloss=weight[1]/weight[0]\n",
    "print(\"this means the zeros have a weight that is\", weightloss, \"times higher\")\n",
    "\n",
    "        \n",
    "i = 0\n",
    "#print out stats\n",
    "print(\"STATS FROM FOLD %0.0f\" % i)\n",
    "print(\"With balanced test set\")\n",
    "weights=class_weight.compute_sample_weight({0:weight[0],1:weight[1]}, y_test_l2)\n",
    "auc = roc_auc_score(y_test_l2, y_pred, sample_weight=weights)\n",
    "prec = average_precision_score(y_test_l2, y_pred, sample_weight=weights)\n",
    "print('Title, Unigrams, SVC. AUC: '+ str(auc)+', Precision: ' + str(prec))"
   ]
  },
  {
   "cell_type": "code",
   "execution_count": 115,
   "metadata": {
    "ExecuteTime": {
     "end_time": "2020-07-03T15:32:45.397858Z",
     "start_time": "2020-07-03T15:32:45.119746Z"
    }
   },
   "outputs": [
    {
     "data": {
      "text/plain": [
       "Text(0.5, 1.0, 'ROC Curve')"
      ]
     },
     "execution_count": 115,
     "metadata": {},
     "output_type": "execute_result"
    },
    {
     "data": {
      "image/png": "[encoded data removed]",
      "text/plain": [
       "<Figure size 720x360 with 1 Axes>"
      ]
     },
     "metadata": {
      "needs_background": "light"
     },
     "output_type": "display_data"
    }
   ],
   "source": [
    "# Compute ROC curve and ROC area for each class\n",
    "fpr, tpr, _ = metrics.roc_curve(y_test_l2, scores, pos_label=1)\n",
    "roc_auc = roc_auc_score(y_test_l2, scores)\n",
    "\n",
    "fig = plt.figure(figsize = (10,5))\n",
    "plt.plot(fpr, tpr, alpha=0.3, lw=2, label='ROC fold %d (AUC = %0.2f)' % (1, roc_auc))\n",
    "plt.plot([0, 1], [0, 1], linestyle='--', lw=2, color='r',\n",
    "         label='Chance', alpha=.8)\n",
    "plt.legend(loc = 'lower right')\n",
    "plt.title(\"ROC Curve\")"
   ]
  },
  {
   "cell_type": "code",
   "execution_count": 116,
   "metadata": {
    "ExecuteTime": {
     "end_time": "2020-07-03T15:32:53.070585Z",
     "start_time": "2020-07-03T15:32:52.837243Z"
    }
   },
   "outputs": [
    {
     "data": {
      "image/png": "[encoded data removed]",
      "text/plain": [
       "<Figure size 720x360 with 1 Axes>"
      ]
     },
     "metadata": {
      "needs_background": "light"
     },
     "output_type": "display_data"
    }
   ],
   "source": [
    "precision, recall, thresholds = precision_recall_curve(y_test_l2, y_pred, sample_weight=weights)\n",
    "      \n",
    "fig = plt.figure(figsize = (10,5))\n",
    "plt.plot(recall, precision, lw=2, alpha=0.3, label='Pr/Rec fold %d (av. Pr. = %0.2f)' % (i, prec))\n",
    "\n",
    "plt.xlim([-0.05, 1.05])\n",
    "plt.ylim([-0.05, 1.05])\n",
    "plt.xlabel('Recall')\n",
    "plt.ylabel('Precision')\n",
    "plt.title('Precision/Recall Curve')\n",
    "plt.legend(loc=\"lower right\")\n",
    "plt.show()"
   ]
  }
 ],
 "metadata": {
  "kernelspec": {
   "display_name": "Python 3",
   "language": "python",
   "name": "python3"
  },
  "language_info": {
   "codemirror_mode": {
    "name": "ipython",
    "version": 3
   },
   "file_extension": ".py",
   "mimetype": "text/x-python",
   "name": "python",
   "nbconvert_exporter": "python",
   "pygments_lexer": "ipython3",
   "version": "3.7.4"
  },
  "toc": {
   "base_numbering": 1,
   "nav_menu": {},
   "number_sections": true,
   "sideBar": true,
   "skip_h1_title": false,
   "title_cell": "Table of Contents",
   "title_sidebar": "Contents",
   "toc_cell": false,
   "toc_position": {},
   "toc_section_display": true,
   "toc_window_display": true
  }
 },
 "nbformat": 4,
 "nbformat_minor": 2
}
